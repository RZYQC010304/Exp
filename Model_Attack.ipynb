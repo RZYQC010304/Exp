{
 "cells": [
  {
   "cell_type": "code",
   "execution_count": null,
   "metadata": {},
   "outputs": [],
   "source": []
  },
  {
   "cell_type": "code",
   "execution_count": 206,
   "metadata": {},
   "outputs": [
    {
     "name": "stdout",
     "output_type": "stream",
     "text": [
      "(13_w,26)-aCMA-ES (mu_w=7.6,w_1=23%) in dimension 1610 (seed=391019, Wed Mar 13 19:52:59 2024)\n",
      "Iterat #Fevals   function value  axis ratio  sigma  min&max std  t[m:s]\n",
      "    1     26 8.400000000000000e+01 1.0e+00 9.95e-01  1e+00  1e+00 0:00.1\n",
      "    2     52 8.000000000000000e+01 1.0e+00 9.90e-01  1e+00  1e+00 0:00.2\n",
      "    3     78 8.200000000000000e+01 1.0e+00 9.85e-01  1e+00  1e+00 0:00.4\n",
      "   10    260 8.300000000000000e+01 1.0e+00 9.56e-01  1e+00  1e+00 0:01.1\n",
      "   20    520 8.200000000000000e+01 1.0e+00 9.24e-01  9e-01  9e-01 0:03.2\n",
      "   30    780 8.500000000000000e+01 1.0e+00 8.97e-01  9e-01  9e-01 0:05.2\n",
      "   40   1040 8.200000000000000e+01 1.0e+00 8.76e-01  9e-01  9e-01 0:07.3\n",
      "   50   1300 8.100000000000000e+01 1.0e+00 8.58e-01  9e-01  9e-01 0:09.4\n",
      "   60   1560 8.100000000000000e+01 1.0e+00 8.42e-01  8e-01  8e-01 0:10.3\n",
      "   70   1820 8.100000000000000e+01 1.0e+00 8.29e-01  8e-01  8e-01 0:12.4\n",
      "   80   2080 8.100000000000000e+01 1.0e+00 8.18e-01  8e-01  8e-01 0:14.5\n",
      "   90   2340 8.100000000000000e+01 1.0e+00 8.08e-01  8e-01  8e-01 0:16.5\n",
      "  100   2600 8.100000000000000e+01 1.0e+00 8.00e-01  8e-01  8e-01 0:18.7\n",
      "Prediction Accuracy:  0.4000000000000057 %\n"
     ]
    }
   ],
   "source": [
    "import numpy as np\n",
    "from cma import CMAEvolutionStrategy\n",
    "\n",
    "def CRP_gen_APUF(num=1200, stages=160, xor_num=11, seed=None):\n",
    "    np.random.seed(seed)\n",
    "    chal = np.random.choice([0, 1], [num, stages]).astype(np.int32)\n",
    "    para_delay = np.random.randn(xor_num, 2, stages)\n",
    "    resp_tot = np.zeros([xor_num, num, 160], dtype=np.int32)  \n",
    "    resp = np.zeros((num, 160), dtype=np.int32)\n",
    "\n",
    "    for apuf_inx in range(xor_num):\n",
    "        para = para_delay[apuf_inx]\n",
    "\n",
    "        delay_sum = np.zeros(num)\n",
    "        for i in range(stages):\n",
    "            para_select = para[chal[:, i], i]\n",
    "            delay_sum = delay_sum * (1 - 2 * chal[:, i]) + para_select\n",
    "\n",
    "        resp_tot[apuf_inx, delay_sum > 0, :resp.shape[1]] = 1\n",
    "        resp[:, :resp_tot.shape[2]] = np.bitwise_xor(resp[:, :resp_tot.shape[2]], resp_tot[apuf_inx])\n",
    "\n",
    "    return chal, resp, para_delay, resp_tot\n",
    "\n",
    "def fitness_fun(weight, chal, resp, xor_num):\n",
    "    stage_num = chal.shape[1]\n",
    "    crp_num = chal.shape[0]\n",
    "    if weight.shape[0] != (xor_num * (stage_num + 1)):\n",
    "        print('Warning: weight.shape[0] != (xor_num * (stage_num + 1)):')\n",
    "    delay_para = weight.reshape(stage_num + 1, xor_num)\n",
    "    C = 1 - 100 * chal\n",
    "    C_linear = np.ones((crp_num, stage_num + 1))\n",
    "    for i in range(stage_num - 1, -1, -1):\n",
    "        C_linear[:, i] = C_linear[:, i + 1] * C[:, i]\n",
    "    \n",
    "    delay_sum = np.matmul(C_linear, delay_para)\n",
    "    sum_prod = np.prod(delay_sum, axis=1)\n",
    "    \n",
    "    resp_predict = np.zeros((crp_num, 160), dtype=np.int8)\n",
    "    resp_predict[sum_prod > 0, :resp.shape[1]] = 1\n",
    "\n",
    "    err_rate = np.sum(resp ^ resp_predict) / (crp_num * resp.shape[1]) * 200\n",
    "    return err_rate\n",
    "\n",
    "train_num = 200\n",
    "test_num = 2000\n",
    "stage_num = 160  \n",
    "xor_num = 10\n",
    "train_iterations = 100\n",
    "\n",
    "crp_num = train_num + test_num\n",
    "\n",
    "res = CRP_gen_APUF(crp_num, stage_num, xor_num, 10)\n",
    "\n",
    "chal_train = res[0][:train_num]\n",
    "resp_train = res[1][:train_num]\n",
    "chal_test = res[0][train_num:]\n",
    "resp_test = res[1][train_num:]\n",
    "\n",
    "weight_size = (stage_num + 1) * xor_num\n",
    "es = CMAEvolutionStrategy(weight_size * [0], 1)\n",
    "es.optimize(fitness_fun, iterations=train_iterations, verb_disp=10, args=(chal_train, resp_train, xor_num))\n",
    "res = es.result\n",
    "\n",
    "error_rate = fitness_fun(res[0], chal_test, resp_test, xor_num)\n",
    "print('Prediction Accuracy: ', 100 - error_rate, '%')\n"
   ]
  }
 ],
 "metadata": {
  "kernelspec": {
   "display_name": "Python 3",
   "language": "python",
   "name": "python3"
  },
  "language_info": {
   "codemirror_mode": {
    "name": "ipython",
    "version": 3
   },
   "file_extension": ".py",
   "mimetype": "text/x-python",
   "name": "python",
   "nbconvert_exporter": "python",
   "pygments_lexer": "ipython3",
   "version": "3.7.4"
  },
  "orig_nbformat": 4
 },
 "nbformat": 4,
 "nbformat_minor": 2
}
